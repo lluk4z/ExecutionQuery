{
  "nbformat": 4,
  "nbformat_minor": 0,
  "metadata": {
    "colab": {
      "provenance": []
    },
    "kernelspec": {
      "name": "python3",
      "display_name": "Python 3"
    },
    "language_info": {
      "name": "python"
    }
  },
  "cells": [
    {
      "cell_type": "code",
      "execution_count": null,
      "metadata": {
        "colab": {
          "base_uri": "https://localhost:8080/"
        },
        "id": "keTmCTGyL1d6",
        "outputId": "69830802-249a-4555-e710-88e70eccb59d"
      },
      "outputs": [
        {
          "output_type": "stream",
          "name": "stdout",
          "text": [
            "Requirement already satisfied: google-cloud-bigquery in /usr/local/lib/python3.10/dist-packages (3.12.0)\n",
            "Requirement already satisfied: grpcio<2.0dev,>=1.47.0 in /usr/local/lib/python3.10/dist-packages (from google-cloud-bigquery) (1.60.0)\n",
            "Requirement already satisfied: google-api-core[grpc]!=2.0.*,!=2.1.*,!=2.2.*,!=2.3.0,<3.0.0dev,>=1.31.5 in /usr/local/lib/python3.10/dist-packages (from google-cloud-bigquery) (2.11.1)\n",
            "Requirement already satisfied: proto-plus<2.0.0dev,>=1.15.0 in /usr/local/lib/python3.10/dist-packages (from google-cloud-bigquery) (1.23.0)\n",
            "Requirement already satisfied: google-cloud-core<3.0.0dev,>=1.6.0 in /usr/local/lib/python3.10/dist-packages (from google-cloud-bigquery) (2.3.3)\n",
            "Requirement already satisfied: google-resumable-media<3.0dev,>=0.6.0 in /usr/local/lib/python3.10/dist-packages (from google-cloud-bigquery) (2.7.0)\n",
            "Requirement already satisfied: packaging>=20.0.0 in /usr/local/lib/python3.10/dist-packages (from google-cloud-bigquery) (23.2)\n",
            "Requirement already satisfied: protobuf!=3.20.0,!=3.20.1,!=4.21.0,!=4.21.1,!=4.21.2,!=4.21.3,!=4.21.4,!=4.21.5,<5.0.0dev,>=3.19.5 in /usr/local/lib/python3.10/dist-packages (from google-cloud-bigquery) (3.20.3)\n",
            "Requirement already satisfied: python-dateutil<3.0dev,>=2.7.2 in /usr/local/lib/python3.10/dist-packages (from google-cloud-bigquery) (2.8.2)\n",
            "Requirement already satisfied: requests<3.0.0dev,>=2.21.0 in /usr/local/lib/python3.10/dist-packages (from google-cloud-bigquery) (2.31.0)\n",
            "Requirement already satisfied: googleapis-common-protos<2.0.dev0,>=1.56.2 in /usr/local/lib/python3.10/dist-packages (from google-api-core[grpc]!=2.0.*,!=2.1.*,!=2.2.*,!=2.3.0,<3.0.0dev,>=1.31.5->google-cloud-bigquery) (1.62.0)\n",
            "Requirement already satisfied: google-auth<3.0.dev0,>=2.14.1 in /usr/local/lib/python3.10/dist-packages (from google-api-core[grpc]!=2.0.*,!=2.1.*,!=2.2.*,!=2.3.0,<3.0.0dev,>=1.31.5->google-cloud-bigquery) (2.17.3)\n",
            "Requirement already satisfied: grpcio-status<2.0.dev0,>=1.33.2 in /usr/local/lib/python3.10/dist-packages (from google-api-core[grpc]!=2.0.*,!=2.1.*,!=2.2.*,!=2.3.0,<3.0.0dev,>=1.31.5->google-cloud-bigquery) (1.48.2)\n",
            "Requirement already satisfied: google-crc32c<2.0dev,>=1.0 in /usr/local/lib/python3.10/dist-packages (from google-resumable-media<3.0dev,>=0.6.0->google-cloud-bigquery) (1.5.0)\n",
            "Requirement already satisfied: six>=1.5 in /usr/local/lib/python3.10/dist-packages (from python-dateutil<3.0dev,>=2.7.2->google-cloud-bigquery) (1.16.0)\n",
            "Requirement already satisfied: charset-normalizer<4,>=2 in /usr/local/lib/python3.10/dist-packages (from requests<3.0.0dev,>=2.21.0->google-cloud-bigquery) (3.3.2)\n",
            "Requirement already satisfied: idna<4,>=2.5 in /usr/local/lib/python3.10/dist-packages (from requests<3.0.0dev,>=2.21.0->google-cloud-bigquery) (3.6)\n",
            "Requirement already satisfied: urllib3<3,>=1.21.1 in /usr/local/lib/python3.10/dist-packages (from requests<3.0.0dev,>=2.21.0->google-cloud-bigquery) (2.0.7)\n",
            "Requirement already satisfied: certifi>=2017.4.17 in /usr/local/lib/python3.10/dist-packages (from requests<3.0.0dev,>=2.21.0->google-cloud-bigquery) (2023.11.17)\n",
            "Requirement already satisfied: cachetools<6.0,>=2.0.0 in /usr/local/lib/python3.10/dist-packages (from google-auth<3.0.dev0,>=2.14.1->google-api-core[grpc]!=2.0.*,!=2.1.*,!=2.2.*,!=2.3.0,<3.0.0dev,>=1.31.5->google-cloud-bigquery) (5.3.2)\n",
            "Requirement already satisfied: pyasn1-modules>=0.2.1 in /usr/local/lib/python3.10/dist-packages (from google-auth<3.0.dev0,>=2.14.1->google-api-core[grpc]!=2.0.*,!=2.1.*,!=2.2.*,!=2.3.0,<3.0.0dev,>=1.31.5->google-cloud-bigquery) (0.3.0)\n",
            "Requirement already satisfied: rsa<5,>=3.1.4 in /usr/local/lib/python3.10/dist-packages (from google-auth<3.0.dev0,>=2.14.1->google-api-core[grpc]!=2.0.*,!=2.1.*,!=2.2.*,!=2.3.0,<3.0.0dev,>=1.31.5->google-cloud-bigquery) (4.9)\n",
            "Requirement already satisfied: pyasn1<0.6.0,>=0.4.6 in /usr/local/lib/python3.10/dist-packages (from pyasn1-modules>=0.2.1->google-auth<3.0.dev0,>=2.14.1->google-api-core[grpc]!=2.0.*,!=2.1.*,!=2.2.*,!=2.3.0,<3.0.0dev,>=1.31.5->google-cloud-bigquery) (0.5.1)\n"
          ]
        }
      ],
      "source": [
        "!pip install google-cloud-bigquery\n"
      ]
    },
    {
      "cell_type": "code",
      "source": [
        "!pip install google_auth"
      ],
      "metadata": {
        "colab": {
          "base_uri": "https://localhost:8080/"
        },
        "id": "umK6MeMVPzWJ",
        "outputId": "f893abbf-27fe-4bc1-bd50-dd5f1603b8ac"
      },
      "execution_count": null,
      "outputs": [
        {
          "output_type": "stream",
          "name": "stdout",
          "text": [
            "Requirement already satisfied: google_auth in /usr/local/lib/python3.10/dist-packages (2.17.3)\n",
            "Requirement already satisfied: cachetools<6.0,>=2.0.0 in /usr/local/lib/python3.10/dist-packages (from google_auth) (5.3.2)\n",
            "Requirement already satisfied: pyasn1-modules>=0.2.1 in /usr/local/lib/python3.10/dist-packages (from google_auth) (0.3.0)\n",
            "Requirement already satisfied: six>=1.9.0 in /usr/local/lib/python3.10/dist-packages (from google_auth) (1.16.0)\n",
            "Requirement already satisfied: rsa<5,>=3.1.4 in /usr/local/lib/python3.10/dist-packages (from google_auth) (4.9)\n",
            "Requirement already satisfied: pyasn1<0.6.0,>=0.4.6 in /usr/local/lib/python3.10/dist-packages (from pyasn1-modules>=0.2.1->google_auth) (0.5.1)\n"
          ]
        }
      ]
    },
    {
      "cell_type": "code",
      "source": [
        "import pandas as pd\n",
        "import numpy as np\n",
        "import datetime\n",
        "from google.cloud import bigquery\n",
        "from datetime import datetime"
      ],
      "metadata": {
        "id": "VTMNoJE25Ehq"
      },
      "execution_count": null,
      "outputs": []
    },
    {
      "cell_type": "code",
      "source": [
        "from google.colab import files\n",
        "uploaded = files.upload()\n"
      ],
      "metadata": {
        "colab": {
          "base_uri": "https://localhost:8080/",
          "height": 110
        },
        "id": "y991O-0lL3hI",
        "outputId": "bffb5526-16e7-45f3-8989-889b70090e46"
      },
      "execution_count": null,
      "outputs": [
        {
          "output_type": "display_data",
          "data": {
            "text/plain": [
              "<IPython.core.display.HTML object>"
            ],
            "text/html": [
              "\n",
              "     <input type=\"file\" id=\"files-1ba70f3e-a2ed-4f35-aa02-c6588c539c18\" name=\"files[]\" multiple disabled\n",
              "        style=\"border:none\" />\n",
              "     <output id=\"result-1ba70f3e-a2ed-4f35-aa02-c6588c539c18\">\n",
              "      Upload widget is only available when the cell has been executed in the\n",
              "      current browser session. Please rerun this cell to enable.\n",
              "      </output>\n",
              "      <script>// Copyright 2017 Google LLC\n",
              "//\n",
              "// Licensed under the Apache License, Version 2.0 (the \"License\");\n",
              "// you may not use this file except in compliance with the License.\n",
              "// You may obtain a copy of the License at\n",
              "//\n",
              "//      http://www.apache.org/licenses/LICENSE-2.0\n",
              "//\n",
              "// Unless required by applicable law or agreed to in writing, software\n",
              "// distributed under the License is distributed on an \"AS IS\" BASIS,\n",
              "// WITHOUT WARRANTIES OR CONDITIONS OF ANY KIND, either express or implied.\n",
              "// See the License for the specific language governing permissions and\n",
              "// limitations under the License.\n",
              "\n",
              "/**\n",
              " * @fileoverview Helpers for google.colab Python module.\n",
              " */\n",
              "(function(scope) {\n",
              "function span(text, styleAttributes = {}) {\n",
              "  const element = document.createElement('span');\n",
              "  element.textContent = text;\n",
              "  for (const key of Object.keys(styleAttributes)) {\n",
              "    element.style[key] = styleAttributes[key];\n",
              "  }\n",
              "  return element;\n",
              "}\n",
              "\n",
              "// Max number of bytes which will be uploaded at a time.\n",
              "const MAX_PAYLOAD_SIZE = 100 * 1024;\n",
              "\n",
              "function _uploadFiles(inputId, outputId) {\n",
              "  const steps = uploadFilesStep(inputId, outputId);\n",
              "  const outputElement = document.getElementById(outputId);\n",
              "  // Cache steps on the outputElement to make it available for the next call\n",
              "  // to uploadFilesContinue from Python.\n",
              "  outputElement.steps = steps;\n",
              "\n",
              "  return _uploadFilesContinue(outputId);\n",
              "}\n",
              "\n",
              "// This is roughly an async generator (not supported in the browser yet),\n",
              "// where there are multiple asynchronous steps and the Python side is going\n",
              "// to poll for completion of each step.\n",
              "// This uses a Promise to block the python side on completion of each step,\n",
              "// then passes the result of the previous step as the input to the next step.\n",
              "function _uploadFilesContinue(outputId) {\n",
              "  const outputElement = document.getElementById(outputId);\n",
              "  const steps = outputElement.steps;\n",
              "\n",
              "  const next = steps.next(outputElement.lastPromiseValue);\n",
              "  return Promise.resolve(next.value.promise).then((value) => {\n",
              "    // Cache the last promise value to make it available to the next\n",
              "    // step of the generator.\n",
              "    outputElement.lastPromiseValue = value;\n",
              "    return next.value.response;\n",
              "  });\n",
              "}\n",
              "\n",
              "/**\n",
              " * Generator function which is called between each async step of the upload\n",
              " * process.\n",
              " * @param {string} inputId Element ID of the input file picker element.\n",
              " * @param {string} outputId Element ID of the output display.\n",
              " * @return {!Iterable<!Object>} Iterable of next steps.\n",
              " */\n",
              "function* uploadFilesStep(inputId, outputId) {\n",
              "  const inputElement = document.getElementById(inputId);\n",
              "  inputElement.disabled = false;\n",
              "\n",
              "  const outputElement = document.getElementById(outputId);\n",
              "  outputElement.innerHTML = '';\n",
              "\n",
              "  const pickedPromise = new Promise((resolve) => {\n",
              "    inputElement.addEventListener('change', (e) => {\n",
              "      resolve(e.target.files);\n",
              "    });\n",
              "  });\n",
              "\n",
              "  const cancel = document.createElement('button');\n",
              "  inputElement.parentElement.appendChild(cancel);\n",
              "  cancel.textContent = 'Cancel upload';\n",
              "  const cancelPromise = new Promise((resolve) => {\n",
              "    cancel.onclick = () => {\n",
              "      resolve(null);\n",
              "    };\n",
              "  });\n",
              "\n",
              "  // Wait for the user to pick the files.\n",
              "  const files = yield {\n",
              "    promise: Promise.race([pickedPromise, cancelPromise]),\n",
              "    response: {\n",
              "      action: 'starting',\n",
              "    }\n",
              "  };\n",
              "\n",
              "  cancel.remove();\n",
              "\n",
              "  // Disable the input element since further picks are not allowed.\n",
              "  inputElement.disabled = true;\n",
              "\n",
              "  if (!files) {\n",
              "    return {\n",
              "      response: {\n",
              "        action: 'complete',\n",
              "      }\n",
              "    };\n",
              "  }\n",
              "\n",
              "  for (const file of files) {\n",
              "    const li = document.createElement('li');\n",
              "    li.append(span(file.name, {fontWeight: 'bold'}));\n",
              "    li.append(span(\n",
              "        `(${file.type || 'n/a'}) - ${file.size} bytes, ` +\n",
              "        `last modified: ${\n",
              "            file.lastModifiedDate ? file.lastModifiedDate.toLocaleDateString() :\n",
              "                                    'n/a'} - `));\n",
              "    const percent = span('0% done');\n",
              "    li.appendChild(percent);\n",
              "\n",
              "    outputElement.appendChild(li);\n",
              "\n",
              "    const fileDataPromise = new Promise((resolve) => {\n",
              "      const reader = new FileReader();\n",
              "      reader.onload = (e) => {\n",
              "        resolve(e.target.result);\n",
              "      };\n",
              "      reader.readAsArrayBuffer(file);\n",
              "    });\n",
              "    // Wait for the data to be ready.\n",
              "    let fileData = yield {\n",
              "      promise: fileDataPromise,\n",
              "      response: {\n",
              "        action: 'continue',\n",
              "      }\n",
              "    };\n",
              "\n",
              "    // Use a chunked sending to avoid message size limits. See b/62115660.\n",
              "    let position = 0;\n",
              "    do {\n",
              "      const length = Math.min(fileData.byteLength - position, MAX_PAYLOAD_SIZE);\n",
              "      const chunk = new Uint8Array(fileData, position, length);\n",
              "      position += length;\n",
              "\n",
              "      const base64 = btoa(String.fromCharCode.apply(null, chunk));\n",
              "      yield {\n",
              "        response: {\n",
              "          action: 'append',\n",
              "          file: file.name,\n",
              "          data: base64,\n",
              "        },\n",
              "      };\n",
              "\n",
              "      let percentDone = fileData.byteLength === 0 ?\n",
              "          100 :\n",
              "          Math.round((position / fileData.byteLength) * 100);\n",
              "      percent.textContent = `${percentDone}% done`;\n",
              "\n",
              "    } while (position < fileData.byteLength);\n",
              "  }\n",
              "\n",
              "  // All done.\n",
              "  yield {\n",
              "    response: {\n",
              "      action: 'complete',\n",
              "    }\n",
              "  };\n",
              "}\n",
              "\n",
              "scope.google = scope.google || {};\n",
              "scope.google.colab = scope.google.colab || {};\n",
              "scope.google.colab._files = {\n",
              "  _uploadFiles,\n",
              "  _uploadFilesContinue,\n",
              "};\n",
              "})(self);\n",
              "</script> "
            ]
          },
          "metadata": {}
        },
        {
          "output_type": "stream",
          "name": "stdout",
          "text": [
            "Saving data-avatar-409500-7dec0f050905.json to data-avatar-409500-7dec0f050905.json\n"
          ]
        }
      ]
    },
    {
      "cell_type": "code",
      "source": [
        "import os\n",
        "os.environ[\"GOOGLE_APPLICATION_CREDENTIALS\"] = \"/content/data-avatar-409500-7dec0f050905.json\"\n"
      ],
      "metadata": {
        "id": "-pCsSaLoME8R"
      },
      "execution_count": null,
      "outputs": []
    },
    {
      "cell_type": "code",
      "source": [
        "queries =  [\n",
        "        \"select sum((lo_extendedprice*lo_discount)) as revenue from data-avatar-409500.ssbsf10.lineorder, data-avatar-409500.ssbsf10.date where d_yearmonthnum = 199401 and lo_orderdate = d_datekey and lo_discount between 4 and 6 and lo_quantity between 26 and 35;\",\n",
        "        \"select sum((lo_extendedprice*lo_discount)) as revenue from data-avatar-409500.ssbsf10.lineorder, data-avatar-409500.ssbsf10.date where d_year = 1993 and lo_orderdate = d_datekey and lo_discount between 1 and 3 and lo_quantity < 25;\",\n",
        "        \"select sum((lo_extendedprice*lo_discount)) as revenue from data-avatar-409500.ssbsf10.lineorder, data-avatar-409500.ssbsf10.date where d_weeknuminyear = 6 and lo_orderdate = d_datekey and d_year = 1994 and lo_discount between 5 and 7 and lo_quantity between 26 and 35;\",\n",
        "        \"select sum((lo_revenue)), d_year, p_brand from data-avatar-409500.ssbsf10.lineorder, data-avatar-409500.ssbsf10.date, data-avatar-409500.ssbsf10.part, data-avatar-409500.ssbsf10.supplier where p_category = 'MFGR#12' and lo_orderdate = d_datekey and lo_partkey = p_partkey and lo_suppkey = s_suppkey and s_region = 'AMERICA' group by d_year, p_brand order by d_year, p_brand;\",\n",
        "        \"select sum((lo_revenue)), d_year, p_brand from data-avatar-409500.ssbsf10.lineorder, data-avatar-409500.ssbsf10.date, data-avatar-409500.ssbsf10.part, data-avatar-409500.ssbsf10.supplier where p_brand BETWEEN 'MFGR#2221' and  'MFGR#2228' and s_region = 'ASIA' and lo_orderdate = d_datekey and lo_partkey = p_partkey and lo_suppkey = s_suppkey group by d_year, p_brand order by d_year, p_brand;\",\n",
        "        \"select sum((lo_revenue)), d_year, p_brand from data-avatar-409500.ssbsf10.lineorder, data-avatar-409500.ssbsf10.date, data-avatar-409500.ssbsf10.part, data-avatar-409500.ssbsf10.supplier where p_brand = 'MFGR#2221' and lo_orderdate = d_datekey and lo_partkey = p_partkey and lo_suppkey = s_suppkey and s_region = 'EUROPE' group by d_year, p_brand order by d_year, p_brand;\",\n",
        "        \"select c_nation, s_nation, d_year, sum((lo_revenue)) as revenue from data-avatar-409500.ssbsf10.customer, data-avatar-409500.ssbsf10.lineorder, data-avatar-409500.ssbsf10.supplier, data-avatar-409500.ssbsf10.date where lo_custkey = c_custkey and lo_suppkey = s_suppkey and lo_orderdate = d_datekey and c_region = 'ASIA' and s_region = 'ASIA' and d_year >= 1992 and d_year <= 1997 group by c_nation, s_nation, d_year order by d_year asc, revenue desc;\",\n",
        "        \"select c_city, s_city, d_year, sum((lo_revenue)) as revenue from data-avatar-409500.ssbsf10.customer, data-avatar-409500.ssbsf10.lineorder, data-avatar-409500.ssbsf10.supplier, data-avatar-409500.ssbsf10.date where c_nation = 'UNITED STATES' and lo_custkey = c_custkey and lo_suppkey = s_suppkey and lo_orderdate = d_datekey and s_nation = 'UNITED STATES' and d_year >= 1992 and d_year <= 1997 group by c_city, s_city, d_year order by d_year asc, revenue desc;\",\n",
        "        \"select c_city, s_city, d_year, sum((lo_revenue)) as revenue from data-avatar-409500.ssbsf10.customer, data-avatar-409500.ssbsf10.lineorder, data-avatar-409500.ssbsf10.supplier, data-avatar-409500.ssbsf10.date where d_year >= 1992 and lo_custkey = c_custkey and lo_suppkey = s_suppkey and lo_orderdate = d_datekey and (c_city='UNITED KI1' or c_city='UNITED KI5') and (s_city='UNITED KI1' or s_city='UNITED KI5') and d_year <= 1997 group by c_city, s_city, d_year order by d_year asc, revenue desc;\",\n",
        "        \"select c_city, s_city, d_year, sum((lo_revenue)) as revenue from data-avatar-409500.ssbsf10.customer, data-avatar-409500.ssbsf10.lineorder, data-avatar-409500.ssbsf10.supplier, data-avatar-409500.ssbsf10.date where d_yearmonth = 'Dec1997' and lo_custkey = c_custkey and lo_suppkey = s_suppkey and lo_orderdate = d_datekey and (c_city='UNITED KI1' or c_city='UNITED KI5') and (s_city='UNITED KI1' or s_city='UNITED KI5') group by c_city, s_city, d_year order by d_year asc, revenue desc;\",\n",
        "        \"select d_year, c_nation, sum((lo_revenue - lo_supplycost)) as profit from data-avatar-409500.ssbsf10.date, data-avatar-409500.ssbsf10.customer, data-avatar-409500.ssbsf10.supplier, data-avatar-409500.ssbsf10.part, data-avatar-409500.ssbsf10.lineorder where lo_custkey = c_custkey  and lo_suppkey = s_suppkey  and lo_partkey = p_partkey  and lo_orderdate = d_datekey  and c_region = 'AMERICA'  and s_region = 'AMERICA'  and (p_mfgr = 'MFGR#1' or p_mfgr = 'MFGR#2') group by d_year, c_nation order by d_year, c_nation;\",\n",
        "        \"select d_year, s_nation, p_category, sum((lo_revenue - lo_supplycost)) as profit from data-avatar-409500.ssbsf10.date, data-avatar-409500.ssbsf10.customer, data-avatar-409500.ssbsf10.supplier, data-avatar-409500.ssbsf10.part, data-avatar-409500.ssbsf10.lineorder where lo_custkey = c_custkey and lo_suppkey = s_suppkey and lo_partkey = p_partkey and lo_orderdate = d_datekey and c_region = 'AMERICA' and s_region = 'AMERICA' and (d_year = 1997 or d_year = 1998) and (p_mfgr = 'MFGR#1' or p_mfgr = 'MFGR#2') group by d_year, s_nation, p_category order by d_year, s_nation, p_category;\",\n",
        "        \"select d_year, s_city, p_brand, sum((lo_revenue - lo_supplycost)) as profit from data-avatar-409500.ssbsf10.date, data-avatar-409500.ssbsf10.customer, data-avatar-409500.ssbsf10.supplier, data-avatar-409500.ssbsf10.part, data-avatar-409500.ssbsf10.lineorder where lo_custkey = c_custkey and lo_suppkey = s_suppkey and lo_partkey = p_partkey and lo_orderdate = d_datekey and c_region = 'AMERICA' and s_nation = 'UNITED STATES' and (d_year = 1997 or d_year = 1998) and p_category = 'MFGR#14' group by d_year, s_city, p_brand order by d_year, s_city, p_brand;\"\n",
        "        ]\n"
      ],
      "metadata": {
        "id": "doW1nv0U35Hk"
      },
      "execution_count": null,
      "outputs": []
    },
    {
      "cell_type": "code",
      "source": [
        "\n",
        "\n",
        "# Criar um cliente BigQuery\n",
        "client = bigquery.Client()\n",
        "\n",
        "# Exemplo de consulta\n",
        "query = \"\"\"\n",
        "SELECT *\n",
        "FROM `data-avatar-409500.ssbsf10.supplier`\n",
        "LIMIT 10\n",
        "\"\"\"\n",
        "\n",
        "# Executar a consulta\n",
        "query_job = client.query(query)\n",
        "\n",
        "# Obter resultados\n",
        "results = query_job.result()\n",
        "\n",
        "# Imprimir resultados\n",
        "for row in results:\n",
        "    print(row)\n"
      ],
      "metadata": {
        "colab": {
          "base_uri": "https://localhost:8080/"
        },
        "id": "i1cFO1skMPnu",
        "outputId": "cbd1f589-7481-4beb-b872-0b4ee5fc34f8"
      },
      "execution_count": null,
      "outputs": [
        {
          "output_type": "stream",
          "name": "stdout",
          "text": [
            "Row((209, 'Supplier#000000209', 'fpTboatC6ogrozMPApz2DXml', 'CHINA    0', 'CHINA', 'ASIA', '28-207-121-7721'), {'s_suppkey': 0, 's_name': 1, 's_address': 2, 's_city': 3, 's_nation': 4, 's_region': 5, 's_phone': 6})\n",
            "Row((324, 'Supplier#000000324', 'QDsgOSozg jniYR2Hz', 'CHINA    0', 'CHINA', 'ASIA', '28-722-560-7023'), {'s_suppkey': 0, 's_name': 1, 's_address': 2, 's_city': 3, 's_nation': 4, 's_region': 5, 's_phone': 6})\n",
            "Row((581, 'Supplier#000000581', 'X pNyEcNqxYwiP0gJ', 'CHINA    0', 'CHINA', 'ASIA', '28-415-978-2518'), {'s_suppkey': 0, 's_name': 1, 's_address': 2, 's_city': 3, 's_nation': 4, 's_region': 5, 's_phone': 6})\n",
            "Row((1650, 'Supplier#000001650', '0R0dQzwyoH6vgewbsib', 'CHINA    0', 'CHINA', 'ASIA', '28-295-469-8581'), {'s_suppkey': 0, 's_name': 1, 's_address': 2, 's_city': 3, 's_nation': 4, 's_region': 5, 's_phone': 6})\n",
            "Row((1674, 'Supplier#000001674', 'nepm7O58', 'CHINA    0', 'CHINA', 'ASIA', '28-396-137-7834'), {'s_suppkey': 0, 's_name': 1, 's_address': 2, 's_city': 3, 's_nation': 4, 's_region': 5, 's_phone': 6})\n",
            "Row((1732, 'Supplier#000001732', 'GbsJPNJV', 'CHINA    0', 'CHINA', 'ASIA', '28-505-455-1597'), {'s_suppkey': 0, 's_name': 1, 's_address': 2, 's_city': 3, 's_nation': 4, 's_region': 5, 's_phone': 6})\n",
            "Row((1783, 'Supplier#000001783', 'ac5hhWNSEs9oqWSDfS', 'CHINA    0', 'CHINA', 'ASIA', '28-239-528-2710'), {'s_suppkey': 0, 's_name': 1, 's_address': 2, 's_city': 3, 's_nation': 4, 's_region': 5, 's_phone': 6})\n",
            "Row((2068, 'Supplier#000002068', 'K3Ao0QAOGRUFgUE5JH8X8', 'CHINA    0', 'CHINA', 'ASIA', '28-996-906-1652'), {'s_suppkey': 0, 's_name': 1, 's_address': 2, 's_city': 3, 's_nation': 4, 's_region': 5, 's_phone': 6})\n",
            "Row((2101, 'Supplier#000002101', 'WPQIxQOridhW5', 'CHINA    0', 'CHINA', 'ASIA', '28-942-154-3144'), {'s_suppkey': 0, 's_name': 1, 's_address': 2, 's_city': 3, 's_nation': 4, 's_region': 5, 's_phone': 6})\n",
            "Row((2644, 'Supplier#000002644', 'aOrGHuvmh2mYtEqu', 'CHINA    0', 'CHINA', 'ASIA', '28-164-810-9204'), {'s_suppkey': 0, 's_name': 1, 's_address': 2, 's_city': 3, 's_nation': 4, 's_region': 5, 's_phone': 6})\n"
          ]
        }
      ]
    },
    {
      "cell_type": "code",
      "source": [
        "# Sua consulta original\n",
        "sua_consulta = \"\"\"\n",
        "SELECT *\n",
        "FROM `data-avatar-409500.ssbsf10.supplier`\n",
        "LIMIT 10\n",
        "\"\"\"\n",
        "\n",
        "# Configuração para evitar o cache\n",
        "configuracao_query = bigquery.QueryJobConfig(use_query_cache=False)\n",
        "\n",
        "# Execute a consulta com a configuração\n",
        "query_job = client.query(sua_consulta, job_config=configuracao_query)\n",
        "\n",
        "job_id = query_job.job_id\n",
        "\n",
        "# Obtenha detalhes do job\n",
        "job_details = client.get_job(job_id)\n",
        "total_time = job_details.ended - job_details.created\n",
        "print(\"Elapsed Time:\", total_time)\n",
        "print(\"Bytes Processados:\", job_details.total_bytes_processed)"
      ],
      "metadata": {
        "colab": {
          "base_uri": "https://localhost:8080/"
        },
        "id": "T5gBLJhuM9ex",
        "outputId": "fa2406b1-bc98-4848-86a3-5e346e84af71"
      },
      "execution_count": null,
      "outputs": [
        {
          "output_type": "stream",
          "name": "stdout",
          "text": [
            "Elapsed Time: 0:00:00.248000\n",
            "Bytes Processados: 9185101\n"
          ]
        }
      ]
    },
    {
      "cell_type": "code",
      "source": [
        "time_d_ms  = total_time / datetime.timedelta(milliseconds=1)"
      ],
      "metadata": {
        "id": "rKe4jyzz4NCw"
      },
      "execution_count": null,
      "outputs": []
    },
    {
      "cell_type": "code",
      "source": [
        "time_d_ms"
      ],
      "metadata": {
        "colab": {
          "base_uri": "https://localhost:8080/"
        },
        "id": "OtSWmMP85UH6",
        "outputId": "2e1a6c8c-1495-4b13-e913-eb9014c7ffe4"
      },
      "execution_count": null,
      "outputs": [
        {
          "output_type": "execute_result",
          "data": {
            "text/plain": [
              "249.0"
            ]
          },
          "metadata": {},
          "execution_count": 17
        }
      ]
    },
    {
      "cell_type": "code",
      "source": [
        "job_details.total_bytes_processed"
      ],
      "metadata": {
        "colab": {
          "base_uri": "https://localhost:8080/"
        },
        "id": "PgQ_MJUz8821",
        "outputId": "21b336b6-996d-43fc-af4d-8b455342f3e4"
      },
      "execution_count": null,
      "outputs": [
        {
          "output_type": "execute_result",
          "data": {
            "text/plain": [
              "9185101"
            ]
          },
          "metadata": {},
          "execution_count": 26
        }
      ]
    },
    {
      "cell_type": "code",
      "source": [
        "for i in range(len(queries)):\n",
        "  arr_elapsed_time = []\n",
        "  arr_bytes_processados = []\n",
        "  for _ in range(1,31):\n",
        "    # Sua consulta original\n",
        "    start_time = datetime.utcnow()\n",
        "    sua_consulta = queries[i]\n",
        "\n",
        "    # Configuração para evitar o cache\n",
        "    configuracao_query = bigquery.QueryJobConfig(use_query_cache=False)\n",
        "\n",
        "    # Execute a consulta com a configuração\n",
        "    query_job = client.query(sua_consulta, job_config=configuracao_query)\n",
        "\n",
        "    end_time = datetime.utcnow()\n",
        "\n",
        "    job_id = query_job.job_id\n",
        "\n",
        "    # Obtenha detalhes do job\n",
        "    job_details = client.get_job(job_id)\n",
        "    #total_time = job_details.ended - job_details.created\n",
        "    #time_d_ms  = total_time / datetime.timedelta(milliseconds=1)\n",
        "    elapsed_time = (end_time - start_time).total_seconds()\n",
        "\n",
        "\n",
        "    bytes_processados = job_details.total_bytes_processed\n",
        "\n",
        "    arr_elapsed_time.append(elapsed_time*1000)\n",
        "    arr_bytes_processados.append(bytes_processados)\n",
        "    #print(\"Elapsed Time:\", total_time)\n",
        "    #print(\"Bytes Processados:\", job_details.total_bytes_processed)\n",
        "\n",
        "\n",
        "    df = pd.DataFrame()\n",
        "\n",
        "    lista_de_tuplas = list(zip(arr_elapsed_time, arr_bytes_processados))\n",
        "    df = pd.DataFrame(\n",
        "      lista_de_tuplas,\n",
        "      columns=['elapsed_time_ms', 'bytes_processados']\n",
        "    )\n",
        "\n",
        "    df.to_csv('query_'+str(i)+'.csv')\n",
        "\n"
      ],
      "metadata": {
        "id": "pfyR1OTuOGzG"
      },
      "execution_count": null,
      "outputs": []
    },
    {
      "cell_type": "code",
      "source": [
        "job_details.total_bytes_processed"
      ],
      "metadata": {
        "id": "XiP3fcHV9sgB"
      },
      "execution_count": null,
      "outputs": []
    }
  ]
}